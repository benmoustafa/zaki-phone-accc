{
 "cells": [
  {
   "cell_type": "code",
   "execution_count": null,
   "id": "2da62016",
   "metadata": {},
   "outputs": [],
   "source": [
    "import gspread\n",
    "import pandas as pd\n",
    "from oauth2client.service_account import ServiceAccountCredentials\n",
    "\n",
    "# Google Sheets API setup\n",
    "scope = [\"https://spreadsheets.google.com/feeds\",'https://www.googleapis.com/auth/drive']\n",
    "creds = ServiceAccountCredentials.from_json_keyfile_name(\"credentials.json\", scope)\n",
    "client = gspread.authorize(creds)\n",
    "\n",
    "# Open sheets\n",
    "products_sheet = client.open(\"Products\").sheet1\n",
    "sales_sheet = client.open(\"DailySales\").sheet1\n",
    "\n",
    "# Convert to DataFrame\n",
    "products_df = pd.DataFrame(products_sheet.get_all_records())\n",
    "sales_df = pd.DataFrame(sales_sheet.get_all_records())\n"
   ]
  }
 ],
 "metadata": {
  "language_info": {
   "name": "python"
  }
 },
 "nbformat": 4,
 "nbformat_minor": 5
}
